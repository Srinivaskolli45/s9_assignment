{
  "nbformat": 4,
  "nbformat_minor": 0,
  "metadata": {
    "colab": {
      "provenance": [],
      "gpuType": "T4",
      "authorship_tag": "ABX9TyOMH0ZXET/ZrMAeuqfGCSFw",
      "include_colab_link": true
    },
    "kernelspec": {
      "name": "python3",
      "display_name": "Python 3"
    },
    "language_info": {
      "name": "python"
    },
    "accelerator": "GPU",
    "gpuClass": "standard",
    "widgets": {
      "application/vnd.jupyter.widget-state+json": {
        "a8ac5cbaa9654020b6a60f59b917a7fe": {
          "model_module": "@jupyter-widgets/controls",
          "model_name": "HBoxModel",
          "model_module_version": "1.5.0",
          "state": {
            "_dom_classes": [],
            "_model_module": "@jupyter-widgets/controls",
            "_model_module_version": "1.5.0",
            "_model_name": "HBoxModel",
            "_view_count": null,
            "_view_module": "@jupyter-widgets/controls",
            "_view_module_version": "1.5.0",
            "_view_name": "HBoxView",
            "box_style": "",
            "children": [
              "IPY_MODEL_cd0482c33bb94f338c9e8f46d9c82baa",
              "IPY_MODEL_1e4a173ec22d43e1b7f208219f00134f",
              "IPY_MODEL_76dec4673e4c4f8f94c5acf7c702d0ad"
            ],
            "layout": "IPY_MODEL_3a6f91b48e6045289febef4bba03ba7e"
          }
        },
        "cd0482c33bb94f338c9e8f46d9c82baa": {
          "model_module": "@jupyter-widgets/controls",
          "model_name": "HTMLModel",
          "model_module_version": "1.5.0",
          "state": {
            "_dom_classes": [],
            "_model_module": "@jupyter-widgets/controls",
            "_model_module_version": "1.5.0",
            "_model_name": "HTMLModel",
            "_view_count": null,
            "_view_module": "@jupyter-widgets/controls",
            "_view_module_version": "1.5.0",
            "_view_name": "HTMLView",
            "description": "",
            "description_tooltip": null,
            "layout": "IPY_MODEL_bc148b04af5c49999eb540e97a0bf68e",
            "placeholder": "​",
            "style": "IPY_MODEL_ec847c54c6924ee7bb0b6519d1fbd6f8",
            "value": " 56%"
          }
        },
        "1e4a173ec22d43e1b7f208219f00134f": {
          "model_module": "@jupyter-widgets/controls",
          "model_name": "FloatProgressModel",
          "model_module_version": "1.5.0",
          "state": {
            "_dom_classes": [],
            "_model_module": "@jupyter-widgets/controls",
            "_model_module_version": "1.5.0",
            "_model_name": "FloatProgressModel",
            "_view_count": null,
            "_view_module": "@jupyter-widgets/controls",
            "_view_module_version": "1.5.0",
            "_view_name": "ProgressView",
            "bar_style": "danger",
            "description": "",
            "description_tooltip": null,
            "layout": "IPY_MODEL_10338b3ff46c46fb8917c24c276e6a8e",
            "max": 200,
            "min": 0,
            "orientation": "horizontal",
            "style": "IPY_MODEL_1a053f521614441fb051882b877b8c41",
            "value": 112
          }
        },
        "76dec4673e4c4f8f94c5acf7c702d0ad": {
          "model_module": "@jupyter-widgets/controls",
          "model_name": "HTMLModel",
          "model_module_version": "1.5.0",
          "state": {
            "_dom_classes": [],
            "_model_module": "@jupyter-widgets/controls",
            "_model_module_version": "1.5.0",
            "_model_name": "HTMLModel",
            "_view_count": null,
            "_view_module": "@jupyter-widgets/controls",
            "_view_module_version": "1.5.0",
            "_view_name": "HTMLView",
            "description": "",
            "description_tooltip": null,
            "layout": "IPY_MODEL_d78b67da52bd4a209cceb5f53f1656e7",
            "placeholder": "​",
            "style": "IPY_MODEL_d750b6238771406fb0b6d9398c2759c1",
            "value": " 112/200 [00:22&lt;00:14,  6.21it/s]"
          }
        },
        "3a6f91b48e6045289febef4bba03ba7e": {
          "model_module": "@jupyter-widgets/base",
          "model_name": "LayoutModel",
          "model_module_version": "1.2.0",
          "state": {
            "_model_module": "@jupyter-widgets/base",
            "_model_module_version": "1.2.0",
            "_model_name": "LayoutModel",
            "_view_count": null,
            "_view_module": "@jupyter-widgets/base",
            "_view_module_version": "1.2.0",
            "_view_name": "LayoutView",
            "align_content": null,
            "align_items": null,
            "align_self": null,
            "border": null,
            "bottom": null,
            "display": null,
            "flex": null,
            "flex_flow": null,
            "grid_area": null,
            "grid_auto_columns": null,
            "grid_auto_flow": null,
            "grid_auto_rows": null,
            "grid_column": null,
            "grid_gap": null,
            "grid_row": null,
            "grid_template_areas": null,
            "grid_template_columns": null,
            "grid_template_rows": null,
            "height": null,
            "justify_content": null,
            "justify_items": null,
            "left": null,
            "margin": null,
            "max_height": null,
            "max_width": null,
            "min_height": null,
            "min_width": null,
            "object_fit": null,
            "object_position": null,
            "order": null,
            "overflow": null,
            "overflow_x": null,
            "overflow_y": null,
            "padding": null,
            "right": null,
            "top": null,
            "visibility": null,
            "width": null
          }
        },
        "bc148b04af5c49999eb540e97a0bf68e": {
          "model_module": "@jupyter-widgets/base",
          "model_name": "LayoutModel",
          "model_module_version": "1.2.0",
          "state": {
            "_model_module": "@jupyter-widgets/base",
            "_model_module_version": "1.2.0",
            "_model_name": "LayoutModel",
            "_view_count": null,
            "_view_module": "@jupyter-widgets/base",
            "_view_module_version": "1.2.0",
            "_view_name": "LayoutView",
            "align_content": null,
            "align_items": null,
            "align_self": null,
            "border": null,
            "bottom": null,
            "display": null,
            "flex": null,
            "flex_flow": null,
            "grid_area": null,
            "grid_auto_columns": null,
            "grid_auto_flow": null,
            "grid_auto_rows": null,
            "grid_column": null,
            "grid_gap": null,
            "grid_row": null,
            "grid_template_areas": null,
            "grid_template_columns": null,
            "grid_template_rows": null,
            "height": null,
            "justify_content": null,
            "justify_items": null,
            "left": null,
            "margin": null,
            "max_height": null,
            "max_width": null,
            "min_height": null,
            "min_width": null,
            "object_fit": null,
            "object_position": null,
            "order": null,
            "overflow": null,
            "overflow_x": null,
            "overflow_y": null,
            "padding": null,
            "right": null,
            "top": null,
            "visibility": null,
            "width": null
          }
        },
        "ec847c54c6924ee7bb0b6519d1fbd6f8": {
          "model_module": "@jupyter-widgets/controls",
          "model_name": "DescriptionStyleModel",
          "model_module_version": "1.5.0",
          "state": {
            "_model_module": "@jupyter-widgets/controls",
            "_model_module_version": "1.5.0",
            "_model_name": "DescriptionStyleModel",
            "_view_count": null,
            "_view_module": "@jupyter-widgets/base",
            "_view_module_version": "1.2.0",
            "_view_name": "StyleView",
            "description_width": ""
          }
        },
        "10338b3ff46c46fb8917c24c276e6a8e": {
          "model_module": "@jupyter-widgets/base",
          "model_name": "LayoutModel",
          "model_module_version": "1.2.0",
          "state": {
            "_model_module": "@jupyter-widgets/base",
            "_model_module_version": "1.2.0",
            "_model_name": "LayoutModel",
            "_view_count": null,
            "_view_module": "@jupyter-widgets/base",
            "_view_module_version": "1.2.0",
            "_view_name": "LayoutView",
            "align_content": null,
            "align_items": null,
            "align_self": null,
            "border": null,
            "bottom": null,
            "display": null,
            "flex": null,
            "flex_flow": null,
            "grid_area": null,
            "grid_auto_columns": null,
            "grid_auto_flow": null,
            "grid_auto_rows": null,
            "grid_column": null,
            "grid_gap": null,
            "grid_row": null,
            "grid_template_areas": null,
            "grid_template_columns": null,
            "grid_template_rows": null,
            "height": null,
            "justify_content": null,
            "justify_items": null,
            "left": null,
            "margin": null,
            "max_height": null,
            "max_width": null,
            "min_height": null,
            "min_width": null,
            "object_fit": null,
            "object_position": null,
            "order": null,
            "overflow": null,
            "overflow_x": null,
            "overflow_y": null,
            "padding": null,
            "right": null,
            "top": null,
            "visibility": null,
            "width": null
          }
        },
        "1a053f521614441fb051882b877b8c41": {
          "model_module": "@jupyter-widgets/controls",
          "model_name": "ProgressStyleModel",
          "model_module_version": "1.5.0",
          "state": {
            "_model_module": "@jupyter-widgets/controls",
            "_model_module_version": "1.5.0",
            "_model_name": "ProgressStyleModel",
            "_view_count": null,
            "_view_module": "@jupyter-widgets/base",
            "_view_module_version": "1.2.0",
            "_view_name": "StyleView",
            "bar_color": null,
            "description_width": ""
          }
        },
        "d78b67da52bd4a209cceb5f53f1656e7": {
          "model_module": "@jupyter-widgets/base",
          "model_name": "LayoutModel",
          "model_module_version": "1.2.0",
          "state": {
            "_model_module": "@jupyter-widgets/base",
            "_model_module_version": "1.2.0",
            "_model_name": "LayoutModel",
            "_view_count": null,
            "_view_module": "@jupyter-widgets/base",
            "_view_module_version": "1.2.0",
            "_view_name": "LayoutView",
            "align_content": null,
            "align_items": null,
            "align_self": null,
            "border": null,
            "bottom": null,
            "display": null,
            "flex": null,
            "flex_flow": null,
            "grid_area": null,
            "grid_auto_columns": null,
            "grid_auto_flow": null,
            "grid_auto_rows": null,
            "grid_column": null,
            "grid_gap": null,
            "grid_row": null,
            "grid_template_areas": null,
            "grid_template_columns": null,
            "grid_template_rows": null,
            "height": null,
            "justify_content": null,
            "justify_items": null,
            "left": null,
            "margin": null,
            "max_height": null,
            "max_width": null,
            "min_height": null,
            "min_width": null,
            "object_fit": null,
            "object_position": null,
            "order": null,
            "overflow": null,
            "overflow_x": null,
            "overflow_y": null,
            "padding": null,
            "right": null,
            "top": null,
            "visibility": null,
            "width": null
          }
        },
        "d750b6238771406fb0b6d9398c2759c1": {
          "model_module": "@jupyter-widgets/controls",
          "model_name": "DescriptionStyleModel",
          "model_module_version": "1.5.0",
          "state": {
            "_model_module": "@jupyter-widgets/controls",
            "_model_module_version": "1.5.0",
            "_model_name": "DescriptionStyleModel",
            "_view_count": null,
            "_view_module": "@jupyter-widgets/base",
            "_view_module_version": "1.2.0",
            "_view_name": "StyleView",
            "description_width": ""
          }
        }
      }
    }
  },
  "cells": [
    {
      "cell_type": "markdown",
      "metadata": {
        "id": "view-in-github",
        "colab_type": "text"
      },
      "source": [
        "<a href=\"https://colab.research.google.com/github/Srinivaskolli45/s9_assignment/blob/main/s9_assignment_main.ipynb\" target=\"_parent\"><img src=\"https://colab.research.google.com/assets/colab-badge.svg\" alt=\"Open In Colab\"/></a>"
      ]
    },
    {
      "cell_type": "code",
      "execution_count": 1,
      "metadata": {
        "colab": {
          "base_uri": "https://localhost:8080/"
        },
        "id": "COtnZRex-AxL",
        "outputId": "62d3ba2d-21c1-44a8-d50a-723a7f6872eb"
      },
      "outputs": [
        {
          "output_type": "stream",
          "name": "stdout",
          "text": [
            "Cloning into 's9_assignment'...\n",
            "remote: Enumerating objects: 14, done.\u001b[K\n",
            "remote: Counting objects: 100% (14/14), done.\u001b[K\n",
            "remote: Compressing objects: 100% (12/12), done.\u001b[K\n",
            "remote: Total 14 (delta 2), reused 6 (delta 0), pack-reused 0\u001b[K\n",
            "Unpacking objects: 100% (14/14), 6.63 KiB | 1.66 MiB/s, done.\n",
            "Looking in indexes: https://pypi.org/simple, https://us-python.pkg.dev/colab-wheels/public/simple/\n",
            "Collecting torch-lr-finder\n",
            "  Downloading torch_lr_finder-0.2.1-py3-none-any.whl (11 kB)\n",
            "Requirement already satisfied: torch>=0.4.1 in /usr/local/lib/python3.9/dist-packages (from torch-lr-finder) (2.0.0+cu118)\n",
            "Requirement already satisfied: packaging in /usr/local/lib/python3.9/dist-packages (from torch-lr-finder) (23.0)\n",
            "Requirement already satisfied: numpy in /usr/local/lib/python3.9/dist-packages (from torch-lr-finder) (1.22.4)\n",
            "Requirement already satisfied: tqdm in /usr/local/lib/python3.9/dist-packages (from torch-lr-finder) (4.65.0)\n",
            "Requirement already satisfied: matplotlib in /usr/local/lib/python3.9/dist-packages (from torch-lr-finder) (3.7.1)\n",
            "Requirement already satisfied: sympy in /usr/local/lib/python3.9/dist-packages (from torch>=0.4.1->torch-lr-finder) (1.11.1)\n",
            "Requirement already satisfied: triton==2.0.0 in /usr/local/lib/python3.9/dist-packages (from torch>=0.4.1->torch-lr-finder) (2.0.0)\n",
            "Requirement already satisfied: typing-extensions in /usr/local/lib/python3.9/dist-packages (from torch>=0.4.1->torch-lr-finder) (4.5.0)\n",
            "Requirement already satisfied: jinja2 in /usr/local/lib/python3.9/dist-packages (from torch>=0.4.1->torch-lr-finder) (3.1.2)\n",
            "Requirement already satisfied: filelock in /usr/local/lib/python3.9/dist-packages (from torch>=0.4.1->torch-lr-finder) (3.10.7)\n",
            "Requirement already satisfied: networkx in /usr/local/lib/python3.9/dist-packages (from torch>=0.4.1->torch-lr-finder) (3.0)\n",
            "Requirement already satisfied: cmake in /usr/local/lib/python3.9/dist-packages (from triton==2.0.0->torch>=0.4.1->torch-lr-finder) (3.25.2)\n",
            "Requirement already satisfied: lit in /usr/local/lib/python3.9/dist-packages (from triton==2.0.0->torch>=0.4.1->torch-lr-finder) (16.0.0)\n",
            "Requirement already satisfied: contourpy>=1.0.1 in /usr/local/lib/python3.9/dist-packages (from matplotlib->torch-lr-finder) (1.0.7)\n",
            "Requirement already satisfied: fonttools>=4.22.0 in /usr/local/lib/python3.9/dist-packages (from matplotlib->torch-lr-finder) (4.39.3)\n",
            "Requirement already satisfied: pillow>=6.2.0 in /usr/local/lib/python3.9/dist-packages (from matplotlib->torch-lr-finder) (8.4.0)\n",
            "Requirement already satisfied: cycler>=0.10 in /usr/local/lib/python3.9/dist-packages (from matplotlib->torch-lr-finder) (0.11.0)\n",
            "Requirement already satisfied: kiwisolver>=1.0.1 in /usr/local/lib/python3.9/dist-packages (from matplotlib->torch-lr-finder) (1.4.4)\n",
            "Requirement already satisfied: pyparsing>=2.3.1 in /usr/local/lib/python3.9/dist-packages (from matplotlib->torch-lr-finder) (3.0.9)\n",
            "Requirement already satisfied: importlib-resources>=3.2.0 in /usr/local/lib/python3.9/dist-packages (from matplotlib->torch-lr-finder) (5.12.0)\n",
            "Requirement already satisfied: python-dateutil>=2.7 in /usr/local/lib/python3.9/dist-packages (from matplotlib->torch-lr-finder) (2.8.2)\n",
            "Requirement already satisfied: zipp>=3.1.0 in /usr/local/lib/python3.9/dist-packages (from importlib-resources>=3.2.0->matplotlib->torch-lr-finder) (3.15.0)\n",
            "Requirement already satisfied: six>=1.5 in /usr/local/lib/python3.9/dist-packages (from python-dateutil>=2.7->matplotlib->torch-lr-finder) (1.16.0)\n",
            "Requirement already satisfied: MarkupSafe>=2.0 in /usr/local/lib/python3.9/dist-packages (from jinja2->torch>=0.4.1->torch-lr-finder) (2.1.2)\n",
            "Requirement already satisfied: mpmath>=0.19 in /usr/local/lib/python3.9/dist-packages (from sympy->torch>=0.4.1->torch-lr-finder) (1.3.0)\n",
            "Installing collected packages: torch-lr-finder\n",
            "Successfully installed torch-lr-finder-0.2.1\n"
          ]
        }
      ],
      "source": [
        "!git clone https://github.com/Srinivaskolli45/s9_assignment.git\n",
        "\n",
        "import sys\n",
        "sys.path.append('/content/s9_assignment/')\n",
        "\n",
        "!pip install torch-lr-finder"
      ]
    },
    {
      "cell_type": "code",
      "source": [
        "import torch\n",
        "import torchvision\n",
        "import numpy as np\n",
        "import copy\n",
        "import torch.nn as nn\n",
        "import albumentations as A\n",
        "from torchvision import datasets\n",
        "from tqdm.autonotebook import tqdm\n",
        "from trainModel import fit_model\n",
        "\n",
        "from dataLoader import AlbumentationImageDataset\n",
        "from model9 import Transformer_VIT\n",
        "\n",
        "from torch_lr_finder import LRFinder\n",
        "from torchsummary import summary\n",
        "import seaborn as sns"
      ],
      "metadata": {
        "id": "j3A3J_Q6-KBn"
      },
      "execution_count": 3,
      "outputs": []
    },
    {
      "cell_type": "code",
      "source": [
        "SEED = 1\n",
        "\n",
        "# CUDA?\n",
        "cuda = torch.cuda.is_available()\n",
        "print(\"CUDA Available:\", cuda)\n",
        "\n",
        "# For reproducibility\n",
        "torch.manual_seed(SEED)\n",
        "\n",
        "if cuda:\n",
        "    torch.cuda.manual_seed(SEED)\n",
        "    BATCH_SIZE=512\n",
        "else:\n",
        "    BATCH_SIZE=32\n",
        "\n"
      ],
      "metadata": {
        "colab": {
          "base_uri": "https://localhost:8080/"
        },
        "id": "9tQxeU_Q-Sxe",
        "outputId": "32865d1e-78b2-4ad5-c7ed-190df1374a14"
      },
      "execution_count": 4,
      "outputs": [
        {
          "output_type": "stream",
          "name": "stdout",
          "text": [
            "CUDA Available: True\n"
          ]
        }
      ]
    },
    {
      "cell_type": "code",
      "source": [
        "trainset = torchvision.datasets.CIFAR10(root='./data', train=True,\n",
        "                                        download=True )\n",
        "testset = torchvision.datasets.CIFAR10(root='./data', train=False,\n",
        "                                       download=True)\n",
        "\n",
        "\n",
        "train_loader = torch.utils.data.DataLoader(AlbumentationImageDataset(trainset, train=True), batch_size=BATCH_SIZE,\n",
        "                                          shuffle=True, num_workers=2)\n",
        "test_loader = torch.utils.data.DataLoader(AlbumentationImageDataset(testset, train=False), batch_size=BATCH_SIZE,\n",
        "                                          shuffle=False, num_workers=1)"
      ],
      "metadata": {
        "colab": {
          "base_uri": "https://localhost:8080/"
        },
        "id": "qWvImvHt-Xn3",
        "outputId": "5c0d06ed-ac14-4bfe-9047-8ad80764fe29"
      },
      "execution_count": 5,
      "outputs": [
        {
          "output_type": "stream",
          "name": "stdout",
          "text": [
            "Downloading https://www.cs.toronto.edu/~kriz/cifar-10-python.tar.gz to ./data/cifar-10-python.tar.gz\n"
          ]
        },
        {
          "output_type": "stream",
          "name": "stderr",
          "text": [
            "100%|██████████| 170498071/170498071 [00:05<00:00, 29336346.71it/s]\n"
          ]
        },
        {
          "output_type": "stream",
          "name": "stdout",
          "text": [
            "Extracting ./data/cifar-10-python.tar.gz to ./data\n",
            "Files already downloaded and verified\n"
          ]
        }
      ]
    },
    {
      "cell_type": "code",
      "source": [
        "use_cuda = torch.cuda.is_available()\n",
        "device = torch.device(\"cuda\" if use_cuda else \"cpu\")\n",
        "net = Transformer_VIT().to(device)\n",
        "print(summary(net, input_size=(3, 32, 32)))"
      ],
      "metadata": {
        "colab": {
          "base_uri": "https://localhost:8080/"
        },
        "id": "j8X8Qwgx-a_V",
        "outputId": "4c34c33f-4580-4537-bfd6-933ed0876732"
      },
      "execution_count": 6,
      "outputs": [
        {
          "output_type": "stream",
          "name": "stdout",
          "text": [
            "----------------------------------------------------------------\n",
            "        Layer (type)               Output Shape         Param #\n",
            "================================================================\n",
            "            Conv2d-1           [-1, 16, 32, 32]             432\n",
            "       BatchNorm2d-2           [-1, 16, 32, 32]              32\n",
            "              ReLU-3           [-1, 16, 32, 32]               0\n",
            "            Conv2d-4           [-1, 32, 32, 32]           4,608\n",
            "       BatchNorm2d-5           [-1, 32, 32, 32]              64\n",
            "              ReLU-6           [-1, 32, 32, 32]               0\n",
            "            Conv2d-7           [-1, 48, 32, 32]          13,824\n",
            "       BatchNorm2d-8           [-1, 48, 32, 32]              96\n",
            "              ReLU-9           [-1, 48, 32, 32]               0\n",
            "        AvgPool2d-10             [-1, 48, 1, 1]               0\n",
            "           Linear-11                    [-1, 8]             392\n",
            "           Linear-12                    [-1, 8]             392\n",
            "           Linear-13                    [-1, 8]             392\n",
            "           Linear-14                   [-1, 48]             432\n",
            "    Ultimus_Block-15                   [-1, 48]               0\n",
            "           Linear-16                    [-1, 8]             392\n",
            "           Linear-17                    [-1, 8]             392\n",
            "           Linear-18                    [-1, 8]             392\n",
            "           Linear-19                   [-1, 48]             432\n",
            "    Ultimus_Block-20                   [-1, 48]               0\n",
            "           Linear-21                    [-1, 8]             392\n",
            "           Linear-22                    [-1, 8]             392\n",
            "           Linear-23                    [-1, 8]             392\n",
            "           Linear-24                   [-1, 48]             432\n",
            "    Ultimus_Block-25                   [-1, 48]               0\n",
            "           Linear-26                    [-1, 8]             392\n",
            "           Linear-27                    [-1, 8]             392\n",
            "           Linear-28                    [-1, 8]             392\n",
            "           Linear-29                   [-1, 48]             432\n",
            "    Ultimus_Block-30                   [-1, 48]               0\n",
            "           Linear-31                   [-1, 10]             490\n",
            "================================================================\n",
            "Total params: 25,978\n",
            "Trainable params: 25,978\n",
            "Non-trainable params: 0\n",
            "----------------------------------------------------------------\n",
            "Input size (MB): 0.01\n",
            "Forward/backward pass size (MB): 2.25\n",
            "Params size (MB): 0.10\n",
            "Estimated Total Size (MB): 2.36\n",
            "----------------------------------------------------------------\n",
            "None\n"
          ]
        }
      ]
    },
    {
      "cell_type": "code",
      "source": [
        "exp_net = copy.deepcopy(net).to(device)\n",
        "optimizer = torch.optim.Adam(exp_net.parameters(), lr=0.001)\n",
        "criterion = nn.NLLLoss()\n",
        "lr_finder = LRFinder(exp_net, optimizer, criterion, device=device)\n",
        "lr_finder.range_test(train_loader, end_lr=10, num_iter=200)\n",
        "lr_finder.plot()\n",
        "min_loss = min(lr_finder.history['loss'])\n",
        "ler_rate = lr_finder.history['lr'][np.argmin(lr_finder.history['loss'], axis=0)]\n",
        "print(\"Max LR is {}\".format(ler_rate))"
      ],
      "metadata": {
        "colab": {
          "base_uri": "https://localhost:8080/",
          "height": 573,
          "referenced_widgets": [
            "a8ac5cbaa9654020b6a60f59b917a7fe",
            "cd0482c33bb94f338c9e8f46d9c82baa",
            "1e4a173ec22d43e1b7f208219f00134f",
            "76dec4673e4c4f8f94c5acf7c702d0ad",
            "3a6f91b48e6045289febef4bba03ba7e",
            "bc148b04af5c49999eb540e97a0bf68e",
            "ec847c54c6924ee7bb0b6519d1fbd6f8",
            "10338b3ff46c46fb8917c24c276e6a8e",
            "1a053f521614441fb051882b877b8c41",
            "d78b67da52bd4a209cceb5f53f1656e7",
            "d750b6238771406fb0b6d9398c2759c1"
          ]
        },
        "id": "spmlmH5S-gVl",
        "outputId": "485865fe-bf94-4bcf-f012-51be3b2989cb"
      },
      "execution_count": 7,
      "outputs": [
        {
          "output_type": "display_data",
          "data": {
            "text/plain": [
              "  0%|          | 0/200 [00:00<?, ?it/s]"
            ],
            "application/vnd.jupyter.widget-view+json": {
              "version_major": 2,
              "version_minor": 0,
              "model_id": "a8ac5cbaa9654020b6a60f59b917a7fe"
            }
          },
          "metadata": {}
        },
        {
          "output_type": "stream",
          "name": "stdout",
          "text": [
            "Stopping early, the loss has diverged\n",
            "Learning rate search finished. See the graph with {finder_name}.plot()\n",
            "LR suggestion: steepest gradient\n",
            "Suggested LR: 1.66E-03\n"
          ]
        },
        {
          "output_type": "display_data",
          "data": {
            "text/plain": [
              "<Figure size 640x480 with 1 Axes>"
            ],
            "image/png": "[encoded data removed]"
          },
          "metadata": {}
        },
        {
          "output_type": "stream",
          "name": "stdout",
          "text": [
            "Max LR is 0.06442363508721374\n"
          ]
        }
      ]
    },
    {
      "cell_type": "code",
      "source": [
        "train_net_1 = copy.deepcopy(net).to(device)\n",
        "optimizer = torch.optim.Adam(train_net_1.parameters(), lr=(ler_rate/10))\n",
        "scheduler = torch.optim.lr_scheduler.OneCycleLR(optimizer, \n",
        "                                                max_lr=ler_rate,\n",
        "                                                steps_per_epoch=len(train_loader), \n",
        "                                                epochs=24,\n",
        "                                                pct_start=0.2,\n",
        "                                                div_factor=10,\n",
        "                                                three_phase=False, \n",
        "                                                final_div_factor=50,\n",
        "                                                anneal_strategy='linear'\n",
        "                                                )"
      ],
      "metadata": {
        "id": "ibMSjD8w-kHv"
      },
      "execution_count": 8,
      "outputs": []
    },
    {
      "cell_type": "code",
      "source": [
        "train_net_1, history = fit_model(\n",
        "    train_net_1, device=device,\n",
        "    criterion = nn.CrossEntropyLoss(),\n",
        "    train_loader=train_loader,\n",
        "    test_loader=test_loader,\n",
        "    optimizer=optimizer, \n",
        "    scheduler=scheduler, \n",
        "    NUM_EPOCHS=24\n",
        ")"
      ],
      "metadata": {
        "colab": {
          "base_uri": "https://localhost:8080/"
        },
        "id": "rdQsnaFw-vYM",
        "outputId": "a1096cb4-6f68-49a5-b319-39ca7728257d"
      },
      "execution_count": 9,
      "outputs": [
        {
          "output_type": "stream",
          "name": "stdout",
          "text": [
            "EPOCH: 1 (LR: 0.0064423635087213745)\n"
          ]
        },
        {
          "output_type": "stream",
          "name": "stderr",
          "text": [
            "Batch_id=97 Loss=1.92898 Accuracy=27.25%: 100%|██████████| 98/98 [00:17<00:00,  5.48it/s]\n"
          ]
        },
        {
          "output_type": "stream",
          "name": "stdout",
          "text": [
            "\n",
            "Test set: Average loss: 1.7396, Accuracy: 3339/10000 (33.39%)\n",
            "\n",
            "EPOCH: 2 (LR: 0.018547528857447943)\n"
          ]
        },
        {
          "output_type": "stream",
          "name": "stderr",
          "text": [
            "Batch_id=97 Loss=1.68157 Accuracy=38.00%: 100%|██████████| 98/98 [00:18<00:00,  5.28it/s]\n"
          ]
        },
        {
          "output_type": "stream",
          "name": "stdout",
          "text": [
            "\n",
            "Test set: Average loss: 1.6254, Accuracy: 3999/10000 (39.99%)\n",
            "\n",
            "EPOCH: 3 (LR: 0.030652694206174513)\n"
          ]
        },
        {
          "output_type": "stream",
          "name": "stderr",
          "text": [
            "Batch_id=97 Loss=1.53616 Accuracy=44.06%: 100%|██████████| 98/98 [00:20<00:00,  4.85it/s]\n"
          ]
        },
        {
          "output_type": "stream",
          "name": "stdout",
          "text": [
            "\n",
            "Test set: Average loss: 2.1336, Accuracy: 3402/10000 (34.02%)\n",
            "\n",
            "EPOCH: 4 (LR: 0.042757859554901086)\n"
          ]
        },
        {
          "output_type": "stream",
          "name": "stderr",
          "text": [
            "Batch_id=97 Loss=3391.85336 Accuracy=28.57%: 100%|██████████| 98/98 [00:18<00:00,  5.37it/s]\n"
          ]
        },
        {
          "output_type": "stream",
          "name": "stdout",
          "text": [
            "\n",
            "Test set: Average loss: 15685.0694, Accuracy: 1000/10000 (10.00%)\n",
            "\n",
            "EPOCH: 5 (LR: 0.054863024903627655)\n"
          ]
        },
        {
          "output_type": "stream",
          "name": "stderr",
          "text": [
            "Batch_id=97 Loss=415.81492 Accuracy=9.81%: 100%|██████████| 98/98 [00:18<00:00,  5.43it/s]\n"
          ]
        },
        {
          "output_type": "stream",
          "name": "stdout",
          "text": [
            "\n",
            "Test set: Average loss: 14.5028, Accuracy: 896/10000 (8.96%)\n",
            "\n",
            "EPOCH: 6 (LR: 0.06371972743998212)\n"
          ]
        },
        {
          "output_type": "stream",
          "name": "stderr",
          "text": [
            "Batch_id=97 Loss=10.32761 Accuracy=9.99%: 100%|██████████| 98/98 [00:19<00:00,  5.11it/s]\n"
          ]
        },
        {
          "output_type": "stream",
          "name": "stdout",
          "text": [
            "\n",
            "Test set: Average loss: 7.4031, Accuracy: 1258/10000 (12.58%)\n",
            "\n",
            "EPOCH: 7 (LR: 0.06037104057451133)\n"
          ]
        },
        {
          "output_type": "stream",
          "name": "stderr",
          "text": [
            "Batch_id=97 Loss=6.78378 Accuracy=10.49%: 100%|██████████| 98/98 [00:18<00:00,  5.33it/s]\n"
          ]
        },
        {
          "output_type": "stream",
          "name": "stdout",
          "text": [
            "\n",
            "Test set: Average loss: 6.9062, Accuracy: 874/10000 (8.74%)\n",
            "\n",
            "EPOCH: 8 (LR: 0.05702235370904053)\n"
          ]
        },
        {
          "output_type": "stream",
          "name": "stderr",
          "text": [
            "Batch_id=97 Loss=6.56148 Accuracy=10.38%: 100%|██████████| 98/98 [00:19<00:00,  4.92it/s]\n"
          ]
        },
        {
          "output_type": "stream",
          "name": "stdout",
          "text": [
            "\n",
            "Test set: Average loss: 6.9566, Accuracy: 831/10000 (8.31%)\n",
            "\n",
            "EPOCH: 9 (LR: 0.05367366684356974)\n"
          ]
        },
        {
          "output_type": "stream",
          "name": "stderr",
          "text": [
            "Batch_id=97 Loss=5.57897 Accuracy=10.85%: 100%|██████████| 98/98 [00:18<00:00,  5.39it/s]\n"
          ]
        },
        {
          "output_type": "stream",
          "name": "stdout",
          "text": [
            "\n",
            "Test set: Average loss: 5.6857, Accuracy: 1176/10000 (11.76%)\n",
            "\n",
            "EPOCH: 10 (LR: 0.050324979978098934)\n"
          ]
        },
        {
          "output_type": "stream",
          "name": "stderr",
          "text": [
            "Batch_id=97 Loss=5.25785 Accuracy=10.76%: 100%|██████████| 98/98 [00:18<00:00,  5.24it/s]\n"
          ]
        },
        {
          "output_type": "stream",
          "name": "stdout",
          "text": [
            "\n",
            "Test set: Average loss: 4.9535, Accuracy: 1270/10000 (12.70%)\n",
            "\n",
            "EPOCH: 11 (LR: 0.04697629311262814)\n"
          ]
        },
        {
          "output_type": "stream",
          "name": "stderr",
          "text": [
            "Batch_id=97 Loss=5.11952 Accuracy=10.92%: 100%|██████████| 98/98 [00:19<00:00,  4.95it/s]\n"
          ]
        },
        {
          "output_type": "stream",
          "name": "stdout",
          "text": [
            "\n",
            "Test set: Average loss: 6.1432, Accuracy: 1150/10000 (11.50%)\n",
            "\n",
            "EPOCH: 12 (LR: 0.04362760624715734)\n"
          ]
        },
        {
          "output_type": "stream",
          "name": "stderr",
          "text": [
            "Batch_id=97 Loss=4.81239 Accuracy=10.53%: 100%|██████████| 98/98 [00:18<00:00,  5.40it/s]\n"
          ]
        },
        {
          "output_type": "stream",
          "name": "stdout",
          "text": [
            "\n",
            "Test set: Average loss: 5.3420, Accuracy: 1316/10000 (13.16%)\n",
            "\n",
            "EPOCH: 13 (LR: 0.04027891938168654)\n"
          ]
        },
        {
          "output_type": "stream",
          "name": "stderr",
          "text": [
            "Batch_id=97 Loss=4.19359 Accuracy=11.21%: 100%|██████████| 98/98 [00:18<00:00,  5.24it/s]\n"
          ]
        },
        {
          "output_type": "stream",
          "name": "stdout",
          "text": [
            "\n",
            "Test set: Average loss: 4.2498, Accuracy: 1129/10000 (11.29%)\n",
            "\n",
            "EPOCH: 14 (LR: 0.036930232516215744)\n"
          ]
        },
        {
          "output_type": "stream",
          "name": "stderr",
          "text": [
            "Batch_id=97 Loss=4.14122 Accuracy=10.79%: 100%|██████████| 98/98 [00:19<00:00,  5.00it/s]\n"
          ]
        },
        {
          "output_type": "stream",
          "name": "stdout",
          "text": [
            "\n",
            "Test set: Average loss: 4.4083, Accuracy: 709/10000 (7.09%)\n",
            "\n",
            "EPOCH: 15 (LR: 0.03358154565074495)\n"
          ]
        },
        {
          "output_type": "stream",
          "name": "stderr",
          "text": [
            "Batch_id=97 Loss=4.12722 Accuracy=10.87%: 100%|██████████| 98/98 [00:17<00:00,  5.45it/s]\n"
          ]
        },
        {
          "output_type": "stream",
          "name": "stdout",
          "text": [
            "\n",
            "Test set: Average loss: 3.9187, Accuracy: 1315/10000 (13.15%)\n",
            "\n",
            "EPOCH: 16 (LR: 0.030232858785274153)\n"
          ]
        },
        {
          "output_type": "stream",
          "name": "stderr",
          "text": [
            "Batch_id=97 Loss=3.86756 Accuracy=10.99%: 100%|██████████| 98/98 [00:19<00:00,  5.04it/s]\n"
          ]
        },
        {
          "output_type": "stream",
          "name": "stdout",
          "text": [
            "\n",
            "Test set: Average loss: 3.8015, Accuracy: 1463/10000 (14.63%)\n",
            "\n",
            "EPOCH: 17 (LR: 0.02688417191980335)\n"
          ]
        },
        {
          "output_type": "stream",
          "name": "stderr",
          "text": [
            "Batch_id=97 Loss=3.72910 Accuracy=10.88%: 100%|██████████| 98/98 [00:18<00:00,  5.39it/s]\n"
          ]
        },
        {
          "output_type": "stream",
          "name": "stdout",
          "text": [
            "\n",
            "Test set: Average loss: 3.8627, Accuracy: 853/10000 (8.53%)\n",
            "\n",
            "EPOCH: 18 (LR: 0.023535485054332554)\n"
          ]
        },
        {
          "output_type": "stream",
          "name": "stderr",
          "text": [
            "Batch_id=97 Loss=3.67147 Accuracy=11.21%: 100%|██████████| 98/98 [00:18<00:00,  5.35it/s]\n"
          ]
        },
        {
          "output_type": "stream",
          "name": "stdout",
          "text": [
            "\n",
            "Test set: Average loss: 3.5100, Accuracy: 1283/10000 (12.83%)\n",
            "\n",
            "EPOCH: 19 (LR: 0.02018679818886176)\n"
          ]
        },
        {
          "output_type": "stream",
          "name": "stderr",
          "text": [
            "Batch_id=97 Loss=3.40604 Accuracy=11.44%: 100%|██████████| 98/98 [00:19<00:00,  5.03it/s]\n"
          ]
        },
        {
          "output_type": "stream",
          "name": "stdout",
          "text": [
            "\n",
            "Test set: Average loss: 3.3802, Accuracy: 1247/10000 (12.47%)\n",
            "\n",
            "EPOCH: 20 (LR: 0.016838111323390956)\n"
          ]
        },
        {
          "output_type": "stream",
          "name": "stderr",
          "text": [
            "Batch_id=97 Loss=3.46915 Accuracy=11.01%: 100%|██████████| 98/98 [00:18<00:00,  5.39it/s]\n"
          ]
        },
        {
          "output_type": "stream",
          "name": "stdout",
          "text": [
            "\n",
            "Test set: Average loss: 3.4526, Accuracy: 1421/10000 (14.21%)\n",
            "\n",
            "EPOCH: 21 (LR: 0.01348942445792016)\n"
          ]
        },
        {
          "output_type": "stream",
          "name": "stderr",
          "text": [
            "Batch_id=97 Loss=3.26566 Accuracy=10.97%: 100%|██████████| 98/98 [00:18<00:00,  5.17it/s]\n"
          ]
        },
        {
          "output_type": "stream",
          "name": "stdout",
          "text": [
            "\n",
            "Test set: Average loss: 3.4164, Accuracy: 1061/10000 (10.61%)\n",
            "\n",
            "EPOCH: 22 (LR: 0.010140737592449364)\n"
          ]
        },
        {
          "output_type": "stream",
          "name": "stderr",
          "text": [
            "Batch_id=97 Loss=3.25255 Accuracy=11.02%: 100%|██████████| 98/98 [00:19<00:00,  5.04it/s]\n"
          ]
        },
        {
          "output_type": "stream",
          "name": "stdout",
          "text": [
            "\n",
            "Test set: Average loss: 3.2673, Accuracy: 1277/10000 (12.77%)\n",
            "\n",
            "EPOCH: 23 (LR: 0.0067920507269785615)\n"
          ]
        },
        {
          "output_type": "stream",
          "name": "stderr",
          "text": [
            "Batch_id=97 Loss=3.28028 Accuracy=11.38%: 100%|██████████| 98/98 [00:18<00:00,  5.43it/s]\n"
          ]
        },
        {
          "output_type": "stream",
          "name": "stdout",
          "text": [
            "\n",
            "Test set: Average loss: 3.2209, Accuracy: 1282/10000 (12.82%)\n",
            "\n",
            "EPOCH: 24 (LR: 0.0034433638615077727)\n"
          ]
        },
        {
          "output_type": "stream",
          "name": "stderr",
          "text": [
            "Batch_id=97 Loss=3.16229 Accuracy=11.47%: 100%|██████████| 98/98 [00:19<00:00,  5.01it/s]\n"
          ]
        },
        {
          "output_type": "stream",
          "name": "stdout",
          "text": [
            "\n",
            "Test set: Average loss: 3.1691, Accuracy: 1226/10000 (12.26%)\n",
            "\n"
          ]
        }
      ]
    }
  ]
}